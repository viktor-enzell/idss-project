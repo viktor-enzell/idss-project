{
 "cells": [
  {
   "cell_type": "code",
   "execution_count": 1,
   "metadata": {},
   "outputs": [],
   "source": [
    "# Build a model for predicting house prices in Barcelona, using the Idealista dataset."
   ]
  },
  {
   "cell_type": "code",
   "execution_count": 88,
   "metadata": {},
   "outputs": [],
   "source": [
    "import pandas as pd\n",
    "import matplotlib.pyplot as plt\n",
    "import numpy as np\n",
    "from sklearn.model_selection import train_test_split\n",
    "from sklearn.metrics import mean_absolute_error\n",
    "from sklearn.metrics import r2_score\n",
    "import random"
   ]
  },
  {
   "cell_type": "code",
   "execution_count": 51,
   "metadata": {},
   "outputs": [
    {
     "name": "stderr",
     "output_type": "stream",
     "text": [
      "/var/folders/hs/8n8m4wfx74g7g2kvbzwql50r0000gn/T/ipykernel_16996/2901507457.py:2: FutureWarning: In a future version of pandas all arguments of DataFrame.drop except for the argument 'labels' will be keyword-only\n",
      "  data = data.drop(data.columns[[0]], 1)\n",
      "/var/folders/hs/8n8m4wfx74g7g2kvbzwql50r0000gn/T/ipykernel_16996/2901507457.py:3: FutureWarning: In a future version of pandas all arguments of DataFrame.drop except for the argument 'labels' will be keyword-only\n",
      "  data = data.drop('city', 1)\n",
      "/var/folders/hs/8n8m4wfx74g7g2kvbzwql50r0000gn/T/ipykernel_16996/2901507457.py:7: FutureWarning: In a future version of pandas all arguments of DataFrame.drop except for the argument 'labels' will be keyword-only\n",
      "  data.drop('prices', 1, inplace=True)\n"
     ]
    }
   ],
   "source": [
    "data = pd.read_csv('barca_idealista.csv')\n",
    "data = data.drop(data.columns[[0]], 1)\n",
    "data = data.drop('city', 1)\n",
    "data = pd.get_dummies(data)\n",
    "\n",
    "labels = data.prices\n",
    "data.drop('prices', 1, inplace=True)\n",
    "\n",
    "train_data, test_data, train_labels, test_labels = train_test_split(data, labels, test_size=0.25)"
   ]
  },
  {
   "cell_type": "code",
   "execution_count": 116,
   "metadata": {},
   "outputs": [
    {
     "data": {
      "text/plain": [
       "DecisionTreeClassifier()"
      ]
     },
     "execution_count": 116,
     "metadata": {},
     "output_type": "execute_result"
    }
   ],
   "source": [
    "from sklearn.tree import DecisionTreeClassifier\n",
    "\n",
    "regr = DecisionTreeClassifier()\n",
    "regr.fit(train_data, train_labels)"
   ]
  },
  {
   "cell_type": "code",
   "execution_count": 141,
   "metadata": {},
   "outputs": [
    {
     "data": {
      "text/plain": [
       "RandomForestRegressor(max_depth=2, random_state=0)"
      ]
     },
     "execution_count": 141,
     "metadata": {},
     "output_type": "execute_result"
    }
   ],
   "source": [
    "from sklearn.ensemble import RandomForestRegressor\n",
    "\n",
    "\n",
    "regr = RandomForestRegressor(max_depth=2, random_state=0)\n",
    "regr.fit(train_data, train_labels)"
   ]
  },
  {
   "cell_type": "code",
   "execution_count": 158,
   "metadata": {},
   "outputs": [
    {
     "name": "stdout",
     "output_type": "stream",
     "text": [
      "210340.75851661066\n",
      "0.6402882801642225\n",
      "\n",
      "Sample predicted price: $ 361663\n",
      "Sample actual price:    $ 445000\n"
     ]
    }
   ],
   "source": [
    "pred = regr.predict(test_data)\n",
    "\n",
    "print(mean_absolute_error(test_labels, pred))\n",
    "print(r2_score(test_labels, pred))\n",
    "print()\n",
    "\n",
    "random_sample = random.randint(0, len(test_data))\n",
    "print(f'Sample predicted price: $ {int(regr.predict(test_data.iloc[[random_sample]])[0])}')\n",
    "print(f'Sample actual price:    $ {test_labels.iloc[random_sample]}')"
   ]
  }
 ],
 "metadata": {
  "interpreter": {
   "hash": "aee8b7b246df8f9039afb4144a1f6fd8d2ca17a180786b69acc140d282b71a49"
  },
  "kernelspec": {
   "display_name": "Python 3.9.4 64-bit",
   "language": "python",
   "name": "python3"
  },
  "language_info": {
   "codemirror_mode": {
    "name": "ipython",
    "version": 3
   },
   "file_extension": ".py",
   "mimetype": "text/x-python",
   "name": "python",
   "nbconvert_exporter": "python",
   "pygments_lexer": "ipython3",
   "version": "3.9.4"
  },
  "orig_nbformat": 4
 },
 "nbformat": 4,
 "nbformat_minor": 2
}
