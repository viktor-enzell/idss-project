{
 "cells": [
  {
   "cell_type": "markdown",
   "metadata": {},
   "source": [
    "# Build a model for predicting rents in Barcelona, using the AirBnb dataset."
   ]
  },
  {
   "cell_type": "code",
   "execution_count": 1,
   "metadata": {},
   "outputs": [],
   "source": [
    "import pandas as pd\n",
    "import matplotlib.pyplot as plt\n",
    "import numpy as np\n",
    "from sklearn.model_selection import train_test_split\n",
    "from sklearn.metrics import mean_absolute_error\n",
    "from sklearn.metrics import r2_score\n",
    "from sklearn.preprocessing import OneHotEncoder\n",
    "import random\n",
    "import pickle\n",
    "\n",
    "model_name = 'rent_model.sav'"
   ]
  },
  {
   "cell_type": "markdown",
   "metadata": {},
   "source": [
    "### Preprocess data by one-hot encoding categorical features"
   ]
  },
  {
   "cell_type": "code",
   "execution_count": 38,
   "metadata": {},
   "outputs": [
    {
     "data": {
      "text/html": [
       "<div>\n",
       "<style scoped>\n",
       "    .dataframe tbody tr th:only-of-type {\n",
       "        vertical-align: middle;\n",
       "    }\n",
       "\n",
       "    .dataframe tbody tr th {\n",
       "        vertical-align: top;\n",
       "    }\n",
       "\n",
       "    .dataframe thead th {\n",
       "        text-align: right;\n",
       "    }\n",
       "</style>\n",
       "<table border=\"1\" class=\"dataframe\">\n",
       "  <thead>\n",
       "    <tr style=\"text-align: right;\">\n",
       "      <th></th>\n",
       "      <th>room_type</th>\n",
       "      <th>district</th>\n",
       "      <th>accommodates</th>\n",
       "      <th>bedrooms</th>\n",
       "      <th>price</th>\n",
       "    </tr>\n",
       "  </thead>\n",
       "  <tbody>\n",
       "    <tr>\n",
       "      <th>0</th>\n",
       "      <td>Shared room</td>\n",
       "      <td>Eixample</td>\n",
       "      <td>10</td>\n",
       "      <td>1.0</td>\n",
       "      <td>264.0</td>\n",
       "    </tr>\n",
       "    <tr>\n",
       "      <th>1</th>\n",
       "      <td>Shared room</td>\n",
       "      <td>Sants-Montjuïc</td>\n",
       "      <td>12</td>\n",
       "      <td>1.0</td>\n",
       "      <td>129.0</td>\n",
       "    </tr>\n",
       "    <tr>\n",
       "      <th>2</th>\n",
       "      <td>Shared room</td>\n",
       "      <td>Sants-Montjuïc</td>\n",
       "      <td>12</td>\n",
       "      <td>1.0</td>\n",
       "      <td>129.0</td>\n",
       "    </tr>\n",
       "    <tr>\n",
       "      <th>3</th>\n",
       "      <td>Shared room</td>\n",
       "      <td>Eixample</td>\n",
       "      <td>2</td>\n",
       "      <td>1.0</td>\n",
       "      <td>72.0</td>\n",
       "    </tr>\n",
       "    <tr>\n",
       "      <th>4</th>\n",
       "      <td>Shared room</td>\n",
       "      <td>Eixample</td>\n",
       "      <td>2</td>\n",
       "      <td>1.0</td>\n",
       "      <td>64.0</td>\n",
       "    </tr>\n",
       "    <tr>\n",
       "      <th>...</th>\n",
       "      <td>...</td>\n",
       "      <td>...</td>\n",
       "      <td>...</td>\n",
       "      <td>...</td>\n",
       "      <td>...</td>\n",
       "    </tr>\n",
       "    <tr>\n",
       "      <th>12628</th>\n",
       "      <td>Private room</td>\n",
       "      <td>Eixample</td>\n",
       "      <td>1</td>\n",
       "      <td>1.0</td>\n",
       "      <td>21.0</td>\n",
       "    </tr>\n",
       "    <tr>\n",
       "      <th>12629</th>\n",
       "      <td>Private room</td>\n",
       "      <td>Gràcia</td>\n",
       "      <td>1</td>\n",
       "      <td>1.0</td>\n",
       "      <td>24.0</td>\n",
       "    </tr>\n",
       "    <tr>\n",
       "      <th>12630</th>\n",
       "      <td>Private room</td>\n",
       "      <td>Gràcia</td>\n",
       "      <td>1</td>\n",
       "      <td>1.0</td>\n",
       "      <td>24.0</td>\n",
       "    </tr>\n",
       "    <tr>\n",
       "      <th>12631</th>\n",
       "      <td>Private room</td>\n",
       "      <td>Eixample</td>\n",
       "      <td>2</td>\n",
       "      <td>1.0</td>\n",
       "      <td>34.0</td>\n",
       "    </tr>\n",
       "    <tr>\n",
       "      <th>12632</th>\n",
       "      <td>Private room</td>\n",
       "      <td>Sants-Montjuïc</td>\n",
       "      <td>1</td>\n",
       "      <td>1.0</td>\n",
       "      <td>23.0</td>\n",
       "    </tr>\n",
       "  </tbody>\n",
       "</table>\n",
       "<p>12633 rows × 5 columns</p>\n",
       "</div>"
      ],
      "text/plain": [
       "          room_type        district  accommodates  bedrooms  price\n",
       "0       Shared room        Eixample            10       1.0  264.0\n",
       "1       Shared room  Sants-Montjuïc            12       1.0  129.0\n",
       "2       Shared room  Sants-Montjuïc            12       1.0  129.0\n",
       "3       Shared room        Eixample             2       1.0   72.0\n",
       "4       Shared room        Eixample             2       1.0   64.0\n",
       "...             ...             ...           ...       ...    ...\n",
       "12628  Private room        Eixample             1       1.0   21.0\n",
       "12629  Private room          Gràcia             1       1.0   24.0\n",
       "12630  Private room          Gràcia             1       1.0   24.0\n",
       "12631  Private room        Eixample             2       1.0   34.0\n",
       "12632  Private room  Sants-Montjuïc             1       1.0   23.0\n",
       "\n",
       "[12633 rows x 5 columns]"
      ]
     },
     "execution_count": 38,
     "metadata": {},
     "output_type": "execute_result"
    }
   ],
   "source": [
    "orig_data = pd.read_csv('barca_airbnb.csv')\n",
    "orig_data = orig_data.drop(labels='reviews', axis=1)\n",
    "orig_data = orig_data.drop(labels='overall_satisfaction', axis=1)\n",
    "orig_data = orig_data.drop(labels='latitude', axis=1)\n",
    "orig_data = orig_data.drop(labels='longitude', axis=1)\n",
    "orig_data = orig_data.rename(columns={'neighborhood': 'district'})\n",
    "\n",
    "categorical_feature_mask = orig_data.dtypes == object\n",
    "categorical_features = orig_data.columns[categorical_feature_mask].tolist()\n",
    "\n",
    "one_hot_encoder = OneHotEncoder(handle_unknown='ignore', sparse=False)\n",
    "one_hot_encoder.fit(orig_data[categorical_features])\n",
    "\n",
    "one_hot_categorical_data = pd.DataFrame(\n",
    "    data=one_hot_encoder.transform(\n",
    "        orig_data[categorical_features]\n",
    "    ),\n",
    "    columns=one_hot_encoder.get_feature_names_out(\n",
    "        input_features=categorical_features\n",
    "    )\n",
    ")\n",
    "data = pd.concat([orig_data, one_hot_categorical_data], axis=1)\n",
    "data = data.drop(columns=categorical_features, axis=1)\n",
    "\n",
    "labels = data.price\n",
    "data.drop(labels='price', axis=1, inplace=True)\n",
    "\n",
    "train_data, test_data, train_labels, test_labels = train_test_split(\n",
    "    data, labels, test_size=0.25\n",
    ")"
   ]
  },
  {
   "cell_type": "code",
   "execution_count": 39,
   "metadata": {},
   "outputs": [],
   "source": [
    "all_categories = {}\n",
    "\n",
    "for feature in categorical_features:\n",
    "    orig_data[feature] = pd.Categorical(orig_data[feature])\n",
    "    all_categories[feature] = list(orig_data[feature].cat.categories)\n",
    "\n",
    "pickle.dump(all_categories, open('rent_feature_categories.sav', 'wb'))"
   ]
  },
  {
   "cell_type": "code",
   "execution_count": 40,
   "metadata": {},
   "outputs": [],
   "source": [
    "# Save one-hot encoder\n",
    "pickle.dump(one_hot_encoder, open('rent_encoder.sav', 'wb'))"
   ]
  },
  {
   "cell_type": "markdown",
   "metadata": {},
   "source": [
    "### Fit different models"
   ]
  },
  {
   "cell_type": "code",
   "execution_count": 41,
   "metadata": {},
   "outputs": [
    {
     "data": {
      "text/plain": [
       "RandomForestRegressor(random_state=0)"
      ]
     },
     "execution_count": 41,
     "metadata": {},
     "output_type": "execute_result"
    }
   ],
   "source": [
    "from sklearn.ensemble import RandomForestRegressor\n",
    "\n",
    "\n",
    "model = RandomForestRegressor(random_state=0)\n",
    "model.fit(train_data, train_labels)"
   ]
  },
  {
   "cell_type": "code",
   "execution_count": 18,
   "metadata": {},
   "outputs": [
    {
     "data": {
      "text/plain": [
       "SVR()"
      ]
     },
     "execution_count": 18,
     "metadata": {},
     "output_type": "execute_result"
    }
   ],
   "source": [
    "from sklearn.svm import SVR\n",
    "\n",
    "model = SVR()\n",
    "model.fit(train_data, train_labels)"
   ]
  },
  {
   "cell_type": "code",
   "execution_count": 14,
   "metadata": {},
   "outputs": [
    {
     "data": {
      "text/plain": [
       "LinearRegression()"
      ]
     },
     "execution_count": 14,
     "metadata": {},
     "output_type": "execute_result"
    }
   ],
   "source": [
    "from sklearn.linear_model import LinearRegression\n",
    "\n",
    "model = LinearRegression()\n",
    "model.fit(train_data, train_labels)"
   ]
  },
  {
   "cell_type": "markdown",
   "metadata": {},
   "source": [
    "### Evaluate model"
   ]
  },
  {
   "cell_type": "code",
   "execution_count": 44,
   "metadata": {},
   "outputs": [
    {
     "name": "stdout",
     "output_type": "stream",
     "text": [
      "mean abs error:          31.978984445656486\n",
      "r2 score:                0.4571596036645086\n",
      "\n",
      "Sample predicted price:  $ 43\n",
      "Sample actual price:     $ 53.0\n"
     ]
    }
   ],
   "source": [
    "pred = model.predict(test_data)\n",
    "\n",
    "print(f'mean abs error:          {mean_absolute_error(test_labels, pred)}')\n",
    "print(f'r2 score:                {r2_score(test_labels, pred)}\\n')\n",
    "\n",
    "random_sample = random.randint(0, len(test_data))\n",
    "print(f'Sample predicted price:  $ {int(model.predict(test_data.iloc[[random_sample]])[0])}')\n",
    "print(f'Sample actual price:     $ {test_labels.iloc[random_sample]}')"
   ]
  },
  {
   "cell_type": "code",
   "execution_count": 45,
   "metadata": {},
   "outputs": [],
   "source": [
    "# Save trained model\n",
    "pickle.dump(model, open(model_name, 'wb'))"
   ]
  },
  {
   "cell_type": "code",
   "execution_count": null,
   "metadata": {},
   "outputs": [],
   "source": [
    "# Load trained model\n",
    "model = pickle.load(open(model_name, 'rb'))"
   ]
  }
 ],
 "metadata": {
  "interpreter": {
   "hash": "f45d05a48770ce4d7619db9c928bb31e82e07f5b0d2ddbe945138c08658293a9"
  },
  "kernelspec": {
   "display_name": "Python 3.9.4 64-bit ('idss': pyenv)",
   "language": "python",
   "name": "python3"
  },
  "language_info": {
   "codemirror_mode": {
    "name": "ipython",
    "version": 3
   },
   "file_extension": ".py",
   "mimetype": "text/x-python",
   "name": "python",
   "nbconvert_exporter": "python",
   "pygments_lexer": "ipython3",
   "version": "3.9.4"
  },
  "orig_nbformat": 4
 },
 "nbformat": 4,
 "nbformat_minor": 2
}
