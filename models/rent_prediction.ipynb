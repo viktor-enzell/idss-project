{
 "cells": [
  {
   "cell_type": "markdown",
   "metadata": {},
   "source": [
    "# Build a model for predicting rents in Barcelona, using the AirBnb dataset."
   ]
  },
  {
   "cell_type": "code",
   "execution_count": 1,
   "metadata": {},
   "outputs": [],
   "source": [
    "import pandas as pd\n",
    "import matplotlib.pyplot as plt\n",
    "import numpy as np\n",
    "from sklearn.model_selection import train_test_split\n",
    "from sklearn.metrics import mean_absolute_error\n",
    "from sklearn.metrics import r2_score\n",
    "from sklearn.preprocessing import OneHotEncoder\n",
    "import random\n",
    "import pickle\n",
    "\n",
    "model_name = 'rent_model.sav'"
   ]
  },
  {
   "cell_type": "markdown",
   "metadata": {},
   "source": [
    "### Preprocess data by one-hot encoding categorical features"
   ]
  },
  {
   "cell_type": "code",
   "execution_count": 22,
   "metadata": {},
   "outputs": [],
   "source": [
    "orig_data = pd.read_csv('barca_airbnb.csv')\n",
    "orig_data = orig_data.drop(labels='reviews', axis=1)\n",
    "orig_data = orig_data.drop(labels='overall_satisfaction', axis=1)\n",
    "orig_data = orig_data.drop(labels='latitude', axis=1)\n",
    "orig_data = orig_data.drop(labels='longitude', axis=1)\n",
    "\n",
    "categorical_feature_mask = orig_data.dtypes == object\n",
    "categorical_features = orig_data.columns[categorical_feature_mask].tolist()\n",
    "\n",
    "one_hot_encoder = OneHotEncoder(handle_unknown='ignore', sparse=False)\n",
    "one_hot_encoder.fit(orig_data[categorical_features])\n",
    "\n",
    "one_hot_categorical_data = pd.DataFrame(\n",
    "    data=one_hot_encoder.transform(\n",
    "        orig_data[categorical_features]\n",
    "    ),\n",
    "    columns=one_hot_encoder.get_feature_names_out(\n",
    "        input_features=categorical_features\n",
    "    )\n",
    ")\n",
    "data = pd.concat([orig_data, one_hot_categorical_data], axis=1)\n",
    "data = data.drop(columns=categorical_features, axis=1)\n",
    "\n",
    "labels = data.price\n",
    "data.drop(labels='price', axis=1, inplace=True)\n",
    "\n",
    "train_data, test_data, train_labels, test_labels = train_test_split(\n",
    "    data, labels, test_size=0.25\n",
    ")"
   ]
  },
  {
   "cell_type": "code",
   "execution_count": 23,
   "metadata": {},
   "outputs": [],
   "source": [
    "all_categories = {}\n",
    "\n",
    "for feature in categorical_features:\n",
    "    orig_data[feature] = pd.Categorical(orig_data[feature])\n",
    "    all_categories[feature] = list(orig_data[feature].cat.categories)\n",
    "\n",
    "pickle.dump(all_categories, open('rent_feature_categories.sav', 'wb'))"
   ]
  },
  {
   "cell_type": "code",
   "execution_count": 24,
   "metadata": {},
   "outputs": [],
   "source": [
    "# Save one-hot encoder\n",
    "pickle.dump(one_hot_encoder, open('rent_encoder.sav', 'wb'))"
   ]
  },
  {
   "cell_type": "markdown",
   "metadata": {},
   "source": [
    "### Fit different models"
   ]
  },
  {
   "cell_type": "code",
   "execution_count": 20,
   "metadata": {},
   "outputs": [
    {
     "data": {
      "text/plain": [
       "RandomForestRegressor(random_state=0)"
      ]
     },
     "execution_count": 20,
     "metadata": {},
     "output_type": "execute_result"
    }
   ],
   "source": [
    "from sklearn.ensemble import RandomForestRegressor\n",
    "\n",
    "\n",
    "model = RandomForestRegressor(random_state=0)\n",
    "model.fit(train_data, train_labels)"
   ]
  },
  {
   "cell_type": "code",
   "execution_count": 18,
   "metadata": {},
   "outputs": [
    {
     "data": {
      "text/plain": [
       "SVR()"
      ]
     },
     "execution_count": 18,
     "metadata": {},
     "output_type": "execute_result"
    }
   ],
   "source": [
    "from sklearn.svm import SVR\n",
    "\n",
    "model = SVR()\n",
    "model.fit(train_data, train_labels)"
   ]
  },
  {
   "cell_type": "code",
   "execution_count": 14,
   "metadata": {},
   "outputs": [
    {
     "data": {
      "text/plain": [
       "LinearRegression()"
      ]
     },
     "execution_count": 14,
     "metadata": {},
     "output_type": "execute_result"
    }
   ],
   "source": [
    "from sklearn.linear_model import LinearRegression\n",
    "\n",
    "model = LinearRegression()\n",
    "model.fit(train_data, train_labels)"
   ]
  },
  {
   "cell_type": "markdown",
   "metadata": {},
   "source": [
    "### Evaluate model"
   ]
  },
  {
   "cell_type": "code",
   "execution_count": 21,
   "metadata": {},
   "outputs": [
    {
     "name": "stdout",
     "output_type": "stream",
     "text": [
      "mean abs error:          32.63702453465405\n",
      "r2 score:                0.3960043452123151\n",
      "\n",
      "Sample predicted price:  $ 133\n",
      "Sample actual price:     $ 204.0\n"
     ]
    }
   ],
   "source": [
    "pred = model.predict(test_data)\n",
    "\n",
    "print(f'mean abs error:          {mean_absolute_error(test_labels, pred)}')\n",
    "print(f'r2 score:                {r2_score(test_labels, pred)}\\n')\n",
    "\n",
    "random_sample = random.randint(0, len(test_data))\n",
    "print(f'Sample predicted price:  $ {int(model.predict(test_data.iloc[[random_sample]])[0])}')\n",
    "print(f'Sample actual price:     $ {test_labels.iloc[random_sample]}')"
   ]
  },
  {
   "cell_type": "code",
   "execution_count": 25,
   "metadata": {},
   "outputs": [],
   "source": [
    "# Save trained model\n",
    "pickle.dump(model, open(model_name, 'wb'))"
   ]
  },
  {
   "cell_type": "code",
   "execution_count": null,
   "metadata": {},
   "outputs": [],
   "source": [
    "# Load trained model\n",
    "model = pickle.load(open(model_name, 'rb'))"
   ]
  }
 ],
 "metadata": {
  "interpreter": {
   "hash": "f45d05a48770ce4d7619db9c928bb31e82e07f5b0d2ddbe945138c08658293a9"
  },
  "kernelspec": {
   "display_name": "Python 3.9.4 64-bit ('idss': pyenv)",
   "language": "python",
   "name": "python3"
  },
  "language_info": {
   "codemirror_mode": {
    "name": "ipython",
    "version": 3
   },
   "file_extension": ".py",
   "mimetype": "text/x-python",
   "name": "python",
   "nbconvert_exporter": "python",
   "pygments_lexer": "ipython3",
   "version": "3.9.4"
  },
  "orig_nbformat": 4
 },
 "nbformat": 4,
 "nbformat_minor": 2
}
