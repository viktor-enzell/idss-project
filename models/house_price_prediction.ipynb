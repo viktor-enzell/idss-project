{
 "cells": [
  {
   "cell_type": "markdown",
   "metadata": {},
   "source": [
    "# Build a model for predicting house prices in Barcelona, using the Idealista dataset."
   ]
  },
  {
   "cell_type": "code",
   "execution_count": 6,
   "metadata": {},
   "outputs": [],
   "source": [
    "import pandas as pd\n",
    "import matplotlib.pyplot as plt\n",
    "import numpy as np\n",
    "from sklearn.model_selection import train_test_split\n",
    "from sklearn.metrics import mean_absolute_error\n",
    "from sklearn.metrics import r2_score\n",
    "from sklearn.preprocessing import OneHotEncoder\n",
    "import random\n",
    "import pickle\n",
    "\n",
    "model_name = 'house_price_model.sav'"
   ]
  },
  {
   "cell_type": "markdown",
   "metadata": {},
   "source": [
    "### Preprocess data by one-hot encoding categorical features"
   ]
  },
  {
   "cell_type": "code",
   "execution_count": 7,
   "metadata": {},
   "outputs": [],
   "source": [
    "orig_data = pd.read_csv('barca_idealista.csv')\n",
    "orig_data = orig_data.drop(labels=orig_data.columns[[0]], axis=1)\n",
    "orig_data = orig_data.drop(labels='city', axis=1)\n",
    "\n",
    "categorical_feature_mask = orig_data.dtypes == object\n",
    "categorical_features = orig_data.columns[categorical_feature_mask].tolist()\n",
    "\n",
    "one_hot_encoder = OneHotEncoder(handle_unknown='ignore', sparse=False)\n",
    "one_hot_encoder.fit(orig_data[categorical_features])\n",
    "\n",
    "one_hot_categorical_data = pd.DataFrame(\n",
    "    data=one_hot_encoder.transform(\n",
    "        orig_data[categorical_features]\n",
    "    ),\n",
    "    columns=one_hot_encoder.get_feature_names_out(\n",
    "        input_features=categorical_features\n",
    "    )\n",
    ")\n",
    "data = pd.concat([orig_data, one_hot_categorical_data], axis=1)\n",
    "data = data.drop(columns=categorical_features, axis=1)\n",
    "\n",
    "labels = data.prices\n",
    "data.drop(labels='prices', axis=1, inplace=True)\n",
    "\n",
    "train_data, test_data, train_labels, test_labels = train_test_split(\n",
    "    data, labels, test_size=0.25\n",
    ")"
   ]
  },
  {
   "cell_type": "code",
   "execution_count": 4,
   "metadata": {},
   "outputs": [],
   "source": [
    "all_categories = {}\n",
    "\n",
    "for feature in categorical_features:\n",
    "    orig_data[feature] = pd.Categorical(orig_data[feature])\n",
    "    all_categories[feature] = list(orig_data[feature].cat.categories)\n",
    "\n",
    "pickle.dump(all_categories, open('house_price_feature_categories.sav', 'wb'))"
   ]
  },
  {
   "cell_type": "code",
   "execution_count": 82,
   "metadata": {},
   "outputs": [],
   "source": [
    "# Save one-hot encoder\n",
    "pickle.dump(one_hot_encoder, open('house_price_encoder.sav', 'wb'))"
   ]
  },
  {
   "cell_type": "markdown",
   "metadata": {},
   "source": [
    "### Fit different models"
   ]
  },
  {
   "cell_type": "code",
   "execution_count": 16,
   "metadata": {},
   "outputs": [
    {
     "data": {
      "text/plain": [
       "RandomForestRegressor(random_state=0)"
      ]
     },
     "execution_count": 16,
     "metadata": {},
     "output_type": "execute_result"
    }
   ],
   "source": [
    "from sklearn.ensemble import RandomForestRegressor\n",
    "\n",
    "\n",
    "model = RandomForestRegressor(random_state=0)\n",
    "model.fit(train_data, train_labels)"
   ]
  },
  {
   "cell_type": "code",
   "execution_count": 10,
   "metadata": {},
   "outputs": [
    {
     "data": {
      "text/plain": [
       "SVR()"
      ]
     },
     "execution_count": 10,
     "metadata": {},
     "output_type": "execute_result"
    }
   ],
   "source": [
    "from sklearn.svm import SVR\n",
    "\n",
    "model = SVR()\n",
    "model.fit(train_data, train_labels)"
   ]
  },
  {
   "cell_type": "code",
   "execution_count": 12,
   "metadata": {},
   "outputs": [
    {
     "data": {
      "text/plain": [
       "LinearRegression()"
      ]
     },
     "execution_count": 12,
     "metadata": {},
     "output_type": "execute_result"
    }
   ],
   "source": [
    "from sklearn.linear_model import LinearRegression\n",
    "\n",
    "model = LinearRegression()\n",
    "model.fit(train_data, train_labels)"
   ]
  },
  {
   "cell_type": "markdown",
   "metadata": {},
   "source": [
    "### Evaluate model"
   ]
  },
  {
   "cell_type": "code",
   "execution_count": 22,
   "metadata": {},
   "outputs": [
    {
     "name": "stdout",
     "output_type": "stream",
     "text": [
      "mean abs error:          145946.2629276097\n",
      "r2 score:                0.68690406372734\n",
      "\n",
      "Sample predicted price:  $ 1325230\n",
      "Sample actual price:     $ 1149000\n"
     ]
    }
   ],
   "source": [
    "pred = model.predict(test_data)\n",
    "\n",
    "print(f'mean abs error:          {mean_absolute_error(test_labels, pred)}')\n",
    "print(f'r2 score:                {r2_score(test_labels, pred)}\\n')\n",
    "\n",
    "random_sample = random.randint(0, len(test_data))\n",
    "print(f'Sample predicted price:  $ {int(model.predict(test_data.iloc[[random_sample]])[0])}')\n",
    "print(f'Sample actual price:     $ {test_labels.iloc[random_sample]}')"
   ]
  },
  {
   "cell_type": "code",
   "execution_count": 23,
   "metadata": {},
   "outputs": [],
   "source": [
    "# Save trained model\n",
    "pickle.dump(model, open(model_name, 'wb'))"
   ]
  },
  {
   "cell_type": "code",
   "execution_count": 22,
   "metadata": {},
   "outputs": [],
   "source": [
    "# Load trained model\n",
    "model = pickle.load(open(model_name, 'rb'))"
   ]
  }
 ],
 "metadata": {
  "interpreter": {
   "hash": "aee8b7b246df8f9039afb4144a1f6fd8d2ca17a180786b69acc140d282b71a49"
  },
  "kernelspec": {
   "display_name": "Python 3.9.4 64-bit",
   "language": "python",
   "name": "python3"
  },
  "language_info": {
   "codemirror_mode": {
    "name": "ipython",
    "version": 3
   },
   "file_extension": ".py",
   "mimetype": "text/x-python",
   "name": "python",
   "nbconvert_exporter": "python",
   "pygments_lexer": "ipython3",
   "version": "3.9.4"
  },
  "orig_nbformat": 4
 },
 "nbformat": 4,
 "nbformat_minor": 2
}
